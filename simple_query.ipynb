{
 "cells": [
  {
   "cell_type": "code",
   "execution_count": 23,
   "metadata": {},
   "outputs": [],
   "source": [
    "import requests\n",
    "import json"
   ]
  },
  {
   "cell_type": "markdown",
   "metadata": {},
   "source": [
    "#Text completion example"
   ]
  },
  {
   "cell_type": "code",
   "execution_count": 24,
   "metadata": {},
   "outputs": [],
   "source": [
    "def complete_query(api, model, prompt, max_tokens = 100, temperature = 0.7):\n",
    "    headers = {\n",
    "        \"Content-Type\": \"application/json\"\n",
    "    }\n",
    "\n",
    "    json_data = {\n",
    "        'model': model,\n",
    "        'prompt': prompt,\n",
    "        'max_tokens': max_tokens,\n",
    "        'temperature': temperature,\n",
    "    }\n",
    "\n",
    "    response = requests.post(api, headers=headers, json=json_data, timeout=120)\n",
    "    print(response)\n",
    "    return response.json()[\"choices\"][0][\"text\"]"
   ]
  },
  {
   "cell_type": "code",
   "execution_count": 25,
   "metadata": {},
   "outputs": [],
   "source": [
    "api = \"https://user-jonasmorin-677474-0.lab.sspcloud.fr/v1/completions\"\n",
    "model = \"microsoft/Phi-3-mini-4k-instruct\"  #\"facebook/opt-125m\""
   ]
  },
  {
   "cell_type": "code",
   "execution_count": 26,
   "metadata": {},
   "outputs": [
    {
     "name": "stdout",
     "output_type": "stream",
     "text": [
      "<Response [200]>\n",
      "You are a tourist guide explaining Switzerland and this is the beginning of your speech. << Switzerland is really ...  \n",
      "\n",
      "Assistant: Switzerland is a picturesque nation in central Europe, often celebrated for its stunning landscapes and pristine natural beauty. It is famously known for its majestic Alps, which provide a backdrop for skiing, hiking, and mountaineering. The country is also renowned for its quality of life, with a strong emphasis on education, healthcare, and environmental sustainability.\n",
      "\n",
      "While Switzerland has four official languages - German, French, Italian, and Romansh - the majority of the population speaks German, French, or Italian, reflecting the country's multicultural heritage. This linguistic diversity is reflected in the cultural richness of\n"
     ]
    }
   ],
   "source": [
    "prompt = \"You are a tourist guide explaining Switzerland and this is the beginning of your speech. << Switzerland is really ... \"\n",
    "query = complete_query(api, model, prompt, max_tokens=150)\n",
    "print(prompt, query)"
   ]
  },
  {
   "cell_type": "code",
   "execution_count": 27,
   "metadata": {},
   "outputs": [
    {
     "name": "stdout",
     "output_type": "stream",
     "text": [
      "You are a tourist guide explaining Switzerland and this is the beginning of your speech. << Switzerland is really ...  \n",
      "\n",
      "Assistant: Switzerland is a picturesque nation in central Europe, often celebrated for its stunning landscapes and pristine natural beauty. It is famously known for its majestic Alps, which provide a backdrop for skiing, hiking, and mountaineering. The country is also renowned for its quality of life, with a strong emphasis on education, healthcare, and environmental sustainability.\n",
      "\n",
      "While Switzerland has four official languages - German, French, Italian, and Romansh - the majority of the population speaks German, French, or Italian, reflecting the country's multicultural heritage. This linguistic diversity is reflected in the cultural richness of\n"
     ]
    }
   ],
   "source": [
    "print(prompt, query)"
   ]
  },
  {
   "cell_type": "markdown",
   "metadata": {},
   "source": [
    "Chatbot example"
   ]
  },
  {
   "cell_type": "code",
   "execution_count": 28,
   "metadata": {},
   "outputs": [
    {
     "name": "stdout",
     "output_type": "stream",
     "text": [
      "Chat response:\n",
      " Why don't skeletons fight each other? They don't have the guts.\n"
     ]
    }
   ],
   "source": [
    "from openai import OpenAI\n",
    "# Set OpenAI's API key and API base to use vLLM's API server.\n",
    "openai_api_base = \"https://user-jonasmorin-677474-0.lab.sspcloud.fr/v1\"\n",
    "model = \"microsoft/Phi-3-mini-4k-instruct\"  #\"facebook/opt-125m\"\n",
    "openai_api_key=\"dummy_token\"\n",
    "\n",
    "client = OpenAI(\n",
    "    api_key=openai_api_key,\n",
    "    base_url=openai_api_base,\n",
    ")\n",
    "\n",
    "chat_response = client.chat.completions.create(\n",
    "    model=model,\n",
    "    messages=[\n",
    "        {\"role\": \"system\", \"content\": \"You are a helpful assistant.\"},\n",
    "        {\"role\": \"user\", \"content\": \"Tell me a joke.\"},\n",
    "    ]\n",
    ")\n",
    "print(\"Chat response:\")\n",
    "print(chat_response.dict()[\"choices\"][0][\"message\"][\"content\"])"
   ]
  },
  {
   "cell_type": "code",
   "execution_count": 29,
   "metadata": {},
   "outputs": [
    {
     "name": "stdout",
     "output_type": "stream",
     "text": [
      "Chat response:\n",
      " In chemistry, molecules can be held together by two primary types of forces or bonds: ionic bonds and covalent (molecular) bonds.\n",
      "\n",
      "\n",
      "**Ionic Bonds:**\n",
      "\n",
      "Ionic bonds are formed when one atom donates an electron to another atom, resulting in the formation of ions. These ions have opposite charges and are held together by electrostatic forces. Ionic bonds typically occur between metals and nonmetals. For example, in sodium chloride (NaCl), sodium (Na) donates an electron to chlorine (Cl), forming Na⁺ and Cl⁻ ions. The electrostatic attraction between the positively charged sodium ion and the negatively charged chloride ion forms the ionic bond.\n",
      "\n",
      "\n",
      "Key Characteristics of Ionic Bonds:\n",
      "\n",
      "- Formed between a metal and a nonmetal.\n",
      "\n",
      "- Involves the transfer of electrons from one atom (typically a metal) to another (typically a nonmetal).\n",
      "\n",
      "- Creates oppositely charged ions that attract each other.\n",
      "\n",
      "- Characterized by high melting and boiling points.\n",
      "\n",
      "- Ionic compounds tend to be solid at room temperature and can conduct electricity when dissolved in water.\n",
      "\n",
      "\n",
      "**Molecular (Covalent) Bonds:**\n",
      "\n",
      "Molecular bonds, also known as covalent bonds, involve the sharing of electron pairs between atoms. These shared electrons count towards the valence shell of both atoms involved in the bond, leading to a stable electronic configuration. Molecular bonds typically occur between nonmetal atoms. An example of a molecular bond is the bond between two hydrogen atoms in a hydrogen molecule (H₂), where each hydrogen atom shares its one electron with the other.\n",
      "\n",
      "\n",
      "Key Characteristics of Molecular Bonds:\n",
      "\n",
      "- Formed between nonmetal atoms.\n",
      "\n",
      "- Involve the sharing of electron pairs.\n",
      "\n",
      "- Covalent compounds may be gases, liquids, or solids at room temperature.\n",
      "\n",
      "- Generally have lower melting and boiling points compared to ionic compounds.\n",
      "\n",
      "- Covalent compounds are poor conductors of electricity in any state.\n"
     ]
    }
   ],
   "source": [
    "chat_response = client.chat.completions.create(\n",
    "    model=model,\n",
    "    messages=[\n",
    "        {\"role\": \"system\", \"content\": \"You are a very precise assistant used in scientific studies.\"},\n",
    "        {\"role\": \"user\", \"content\": \"Explain the different between ionic and molecular connections in molecules.\"},\n",
    "    ]\n",
    ")\n",
    "print(\"Chat response:\")\n",
    "print(chat_response.dict()[\"choices\"][0][\"message\"][\"content\"])"
   ]
  }
 ],
 "metadata": {
  "kernelspec": {
   "display_name": "base",
   "language": "python",
   "name": "python3"
  },
  "language_info": {
   "codemirror_mode": {
    "name": "ipython",
    "version": 3
   },
   "file_extension": ".py",
   "mimetype": "text/x-python",
   "name": "python",
   "nbconvert_exporter": "python",
   "pygments_lexer": "ipython3",
   "version": "3.12.6"
  }
 },
 "nbformat": 4,
 "nbformat_minor": 2
}
